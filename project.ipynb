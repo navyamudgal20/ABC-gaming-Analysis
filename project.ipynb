{
 "cells": [
  {
   "cell_type": "code",
   "execution_count": 2,
   "id": "2ed459b2-fc0d-4530-a65d-2b32f7f5d695",
   "metadata": {},
   "outputs": [],
   "source": [
    "import pandas as pd\n",
    "\n",
    "deposits = pd.read_csv(\"deposits.csv\")\n",
    "withdrawals = pd.read_csv(\"withdrawals.csv\")\n",
    "gameplay = pd.read_csv(\"gameplay.csv\")\n"
   ]
  },
  {
   "cell_type": "code",
   "execution_count": 3,
   "id": "938bbaa2-ad3c-48d0-9035-4d00e0a7ccea",
   "metadata": {},
   "outputs": [],
   "source": [
    "import pandas as pd\n",
    "import numpy as np\n",
    "\n",
    "# Convert 'Datetime' to datetime\n",
    "deposits['Datetime'] = pd.to_datetime(deposits['Datetime'], errors='coerce')\n",
    "withdrawals['Datetime'] = pd.to_datetime(withdrawals['Datetime'], errors='coerce')\n",
    "gameplay['Datetime'] = pd.to_datetime(gameplay['Datetime'], errors='coerce')\n",
    "\n",
    "# Create date and slot columns\n",
    "for df in [deposits, withdrawals, gameplay]:\n",
    "    df['date'] = df['Datetime'].dt.date\n",
    "    df['slot'] = df['Datetime'].apply(lambda x: 'S1' if x.hour < 12 else 'S2')\n"
   ]
  },
  {
   "cell_type": "code",
   "execution_count": 4,
   "id": "eefaf671-53c1-439c-808a-ef92431b9f4a",
   "metadata": {},
   "outputs": [
    {
     "name": "stdout",
     "output_type": "stream",
     "text": [
      "   User Id            Datetime       Date         Time  Amount Slot  \\\n",
      "0    357.0 2022-01-10 00:03:00  1/10/2022  12:03:00 AM  2000.0   S1   \n",
      "1    776.0 2022-01-10 00:03:00  1/10/2022  12:03:00 AM  2500.0   S1   \n",
      "2    492.0 2022-01-10 00:06:00  1/10/2022  12:03:00 AM  5000.0   S1   \n",
      "3    803.0 2022-01-10 00:07:00  1/10/2022  12:06:00 AM  5000.0   S1   \n",
      "4    875.0 2022-01-10 00:09:00  1/10/2022  12:07:00 AM  1500.0   S1   \n",
      "\n",
      "         date slot  \n",
      "0  2022-01-10   S1  \n",
      "1  2022-01-10   S1  \n",
      "2  2022-01-10   S1  \n",
      "3  2022-01-10   S1  \n",
      "4  2022-01-10   S1  \n",
      "   User Id            Datetime       Date         Time  Amount Slot  \\\n",
      "0      190 2022-01-10 00:03:00  1/10/2022  12:03:00 PM    5872   S1   \n",
      "1      159 2022-01-10 00:16:00  1/10/2022  12:03:00 PM    9540   S1   \n",
      "2      164 2022-01-10 00:24:00  1/10/2022  12:16:00 PM     815   S1   \n",
      "3      946 2022-01-10 00:29:00  1/10/2022  12:24:00 PM   23000   S1   \n",
      "4      763 2022-01-10 00:40:00  1/10/2022  12:29:00 PM    9473   S1   \n",
      "\n",
      "         date slot  \n",
      "0  2022-01-10   S1  \n",
      "1  2022-01-10   S1  \n",
      "2  2022-01-10   S1  \n",
      "3  2022-01-10   S1  \n",
      "4  2022-01-10   S1  \n",
      "   User ID  Games Played   Datetime       Date         Time Slot        date  \\\n",
      "0    851.0           1.0 2022-01-10  1/10/2022  12:00:00 PM   S1  2022-01-10   \n",
      "1    717.0           1.0 2022-01-10  1/10/2022  12:00:00 PM   S1  2022-01-10   \n",
      "2    456.0           1.0 2022-01-10  1/10/2022  12:00:00 PM   S1  2022-01-10   \n",
      "3    424.0           1.0 2022-01-10  1/10/2022  12:00:00 PM   S1  2022-01-10   \n",
      "4    845.0           1.0 2022-01-10  1/10/2022  12:00:00 PM   S1  2022-01-10   \n",
      "\n",
      "  slot  \n",
      "0   S1  \n",
      "1   S1  \n",
      "2   S1  \n",
      "3   S1  \n",
      "4   S1  \n"
     ]
    }
   ],
   "source": [
    "# Try printing first few rows\n",
    "print(deposits.head())\n",
    "print(withdrawals.head())\n",
    "print(gameplay.head())\n"
   ]
  },
  {
   "cell_type": "code",
   "execution_count": 5,
   "id": "d8488722-3818-452e-b518-8c4cb13785b9",
   "metadata": {},
   "outputs": [],
   "source": [
    "# Deposits aggregation\n",
    "deposit_agg = deposits.groupby(['User Id', 'date', 'slot']).agg(\n",
    "    deposit_amount_sum=('Amount', 'sum'),\n",
    "    deposit_count=('Amount', 'count')\n",
    ").reset_index()\n",
    "\n",
    "# Withdrawals aggregation\n",
    "withdraw_agg = withdrawals.groupby(['User Id', 'date', 'slot']).agg(\n",
    "    withdraw_amount_sum=('Amount', 'sum'),\n",
    "    withdraw_count=('Amount', 'count')\n",
    ").reset_index()\n",
    "\n",
    "# Gameplay aggregation (pehle User ID rename)\n",
    "gameplay.rename(columns={'User ID': 'User Id'}, inplace=True)\n",
    "\n",
    "gameplay_agg = gameplay.groupby(['User Id', 'date', 'slot']).agg(\n",
    "    games_played=('Games Played', 'sum')\n",
    ").reset_index()\n"
   ]
  },
  {
   "cell_type": "code",
   "execution_count": 6,
   "id": "d29add51-5eab-42c0-a3f5-6f9ca4f84e72",
   "metadata": {},
   "outputs": [
    {
     "name": "stdout",
     "output_type": "stream",
     "text": [
      "   User Id        date slot  deposit_amount_sum  deposit_count\n",
      "0      2.0  2022-01-10   S2             40000.0              1\n",
      "1      2.0  2022-02-10   S2              5000.0              1\n",
      "2      2.0  2022-06-10   S1             40000.0              1\n",
      "3      2.0  2022-08-10   S1             45000.0              2\n",
      "4      2.0  2022-08-10   S2              5000.0              1\n"
     ]
    }
   ],
   "source": [
    "print(deposit_agg.head())\n"
   ]
  },
  {
   "cell_type": "code",
   "execution_count": 7,
   "id": "aa064a43-819c-40fa-9f98-79f0213d0368",
   "metadata": {},
   "outputs": [
    {
     "name": "stdout",
     "output_type": "stream",
     "text": [
      "   User Id        date slot  withdraw_amount_sum  withdraw_count\n",
      "0        2  2022-01-10   S2                55000               1\n",
      "1        2  2022-03-10   S1               117349               1\n",
      "2        2  2022-04-10   S2                19000               1\n",
      "3        2  2022-05-10   S1                36000               1\n",
      "4        2  2022-08-10   S2                13000               1\n"
     ]
    }
   ],
   "source": [
    "print(withdraw_agg.head())\n"
   ]
  },
  {
   "cell_type": "code",
   "execution_count": 8,
   "id": "1dc45aeb-3247-45fa-81f9-5f76276c5d84",
   "metadata": {},
   "outputs": [
    {
     "name": "stdout",
     "output_type": "stream",
     "text": [
      "   User Id        date slot  games_played\n",
      "0      0.0  2022-04-10   S2           1.0\n",
      "1      0.0  2022-05-10   S2           1.0\n",
      "2      0.0  2022-06-10   S1           1.0\n",
      "3      0.0  2022-10-10   S1           1.0\n",
      "4      0.0  2022-10-10   S2           1.0\n"
     ]
    }
   ],
   "source": [
    "print(gameplay_agg.head())\n"
   ]
  },
  {
   "cell_type": "code",
   "execution_count": 9,
   "id": "bc14071f-84c2-4aad-8326-c0286ec2de09",
   "metadata": {},
   "outputs": [],
   "source": [
    "# Merge deposits and withdrawals\n",
    "df = pd.merge(deposit_agg, withdraw_agg, on=['User Id', 'date', 'slot'], how='outer')\n",
    "\n",
    "# Merge gameplay\n",
    "df = pd.merge(df, gameplay_agg, on=['User Id', 'date', 'slot'], how='outer')\n",
    "\n",
    "# Fill NaNs with 0\n",
    "df.fillna(0, inplace=True)\n"
   ]
  },
  {
   "cell_type": "code",
   "execution_count": 14,
   "id": "83201e44-d593-413a-8799-4d91161b3403",
   "metadata": {},
   "outputs": [
    {
     "name": "stdout",
     "output_type": "stream",
     "text": [
      "Step 3 - merged df shape: (15161, 9)\n",
      "   User Id        date slot  deposit_amount_sum  deposit_count  \\\n",
      "0      0.0  2022-04-10   S2                 0.0            0.0   \n",
      "1      0.0  2022-05-10   S2                 0.0            0.0   \n",
      "2      0.0  2022-06-10   S1                 0.0            0.0   \n",
      "3      0.0  2022-10-10   S1                 0.0            0.0   \n",
      "4      0.0  2022-10-10   S2                 0.0            0.0   \n",
      "\n",
      "   withdraw_amount_sum  withdraw_count  games_played  loyalty_points  \n",
      "0                  0.0             0.0           1.0             0.2  \n",
      "1                  0.0             0.0           1.0             0.2  \n",
      "2                  0.0             0.0           1.0             0.2  \n",
      "3                  0.0             0.0           1.0             0.2  \n",
      "4                  0.0             0.0           1.0             0.2  \n",
      "Index(['User Id', 'date', 'slot', 'deposit_amount_sum', 'deposit_count',\n",
      "       'withdraw_amount_sum', 'withdraw_count', 'games_played',\n",
      "       'loyalty_points'],\n",
      "      dtype='object')\n"
     ]
    }
   ],
   "source": [
    "print(\"Step 3 - merged df shape:\", df.shape)\n",
    "print(df.head())\n",
    "print(df.columns)\n"
   ]
  },
  {
   "cell_type": "code",
   "execution_count": 10,
   "id": "1bf63b48-b7ad-4ec0-8103-2e23482b1872",
   "metadata": {},
   "outputs": [],
   "source": [
    "import numpy as np\n",
    "\n",
    "df['loyalty_points'] = (\n",
    "    0.01 * df['deposit_amount_sum'] +                    # 1% of total deposited amount\n",
    "    0.005 * df['withdraw_amount_sum'] +                  # 0.5% of total withdrawn amount\n",
    "    0.001 * np.maximum(df['deposit_count'] - df['withdraw_count'], 0) +  # small bonus for net deposit transactions\n",
    "    0.2 * df['games_played']                             # 0.2 points per game played\n",
    ")\n"
   ]
  },
  {
   "cell_type": "code",
   "execution_count": 15,
   "id": "06d566ef-8743-4011-b612-2a7db5380bfc",
   "metadata": {},
   "outputs": [
    {
     "name": "stdout",
     "output_type": "stream",
     "text": [
      "Step 4 - sample loyalty points:\n",
      "   User Id        date slot  loyalty_points\n",
      "0      0.0  2022-04-10   S2             0.2\n",
      "1      0.0  2022-05-10   S2             0.2\n",
      "2      0.0  2022-06-10   S1             0.2\n",
      "3      0.0  2022-10-10   S1             0.2\n",
      "4      0.0  2022-10-10   S2             0.2\n",
      "5      0.0  2022-11-10   S2             0.4\n",
      "6      1.0  2022-01-10   S1             0.2\n",
      "7      1.0  2022-07-10   S1             0.2\n",
      "8      2.0  2022-01-10   S1             0.4\n",
      "9      2.0  2022-01-10   S2           675.2\n",
      "Min loyalty points: 0.2\n",
      "Max loyalty points: 3822.64\n"
     ]
    }
   ],
   "source": [
    "print(\"Step 4 - sample loyalty points:\")\n",
    "print(df[['User Id', 'date', 'slot', 'loyalty_points']].head(10))\n",
    "print(\"Min loyalty points:\", df['loyalty_points'].min())\n",
    "print(\"Max loyalty points:\", df['loyalty_points'].max())\n"
   ]
  },
  {
   "cell_type": "code",
   "execution_count": 11,
   "id": "7384d35d-70fc-4376-a0f1-592920105ab6",
   "metadata": {},
   "outputs": [],
   "source": [
    "from datetime import date\n",
    "\n",
    "# Filter for October 2022 data\n",
    "october_df = df[(df['date'] >= date(2022, 10, 1)) & (df['date'] <= date(2022, 10, 31))]\n"
   ]
  },
  {
   "cell_type": "code",
   "execution_count": 16,
   "id": "90fbf208-539e-4b62-b2c3-45ca839e1ddc",
   "metadata": {},
   "outputs": [
    {
     "name": "stdout",
     "output_type": "stream",
     "text": [
      "Step 5 - October data shape: (1262, 9)\n",
      "2022-10-10 2022-10-10\n"
     ]
    }
   ],
   "source": [
    "print(\"Step 5 - October data shape:\", october_df.shape)\n",
    "print(october_df['date'].min(), october_df['date'].max())\n"
   ]
  },
  {
   "cell_type": "code",
   "execution_count": 12,
   "id": "abf6816c-a22b-492f-97c0-927aab5a4a8b",
   "metadata": {},
   "outputs": [],
   "source": [
    "# Aggregate loyalty points by User Id for the month of October\n",
    "user_points = october_df.groupby('User Id')['loyalty_points'].sum().reset_index()\n",
    "\n",
    "# Sort descending by loyalty points and get top 50\n",
    "top_50_players = user_points.sort_values(by='loyalty_points', ascending=False).head(50)\n"
   ]
  },
  {
   "cell_type": "code",
   "execution_count": 17,
   "id": "73158ba0-3b4d-4085-94b6-aa3e7950b761",
   "metadata": {},
   "outputs": [
    {
     "name": "stdout",
     "output_type": "stream",
     "text": [
      "Step 6 - Top 50 players:\n",
      "     User Id  loyalty_points        bonus\n",
      "469    634.0        5164.630  1548.318678\n",
      "445    601.0        2200.001   659.544370\n",
      "324    438.0        2000.001   599.585818\n",
      "530    714.0        1380.204   413.775166\n",
      "255    344.0        1350.000   404.720225\n",
      "Number of players: 50\n",
      "Max loyalty points in top 50: 5164.63\n",
      "Min loyalty points in top 50: 238.89400000000003\n"
     ]
    }
   ],
   "source": [
    "print(\"Step 6 - Top 50 players:\")\n",
    "print(top_50_players.head())\n",
    "print(\"Number of players:\", len(top_50_players))\n",
    "print(\"Max loyalty points in top 50:\", top_50_players['loyalty_points'].max())\n",
    "print(\"Min loyalty points in top 50:\", top_50_players['loyalty_points'].min())\n"
   ]
  },
  {
   "cell_type": "code",
   "execution_count": 13,
   "id": "3494ea36-1de6-4cfd-b5ed-e0dfc1ed425f",
   "metadata": {},
   "outputs": [],
   "source": [
    "# Example: proportional bonus based on loyalty points share\n",
    "total_points = top_50_players['loyalty_points'].sum()\n",
    "top_50_players['bonus'] = top_50_players['loyalty_points'] / total_points * 10000  # e.g., total bonus pool = 10,000\n"
   ]
  },
  {
   "cell_type": "code",
   "execution_count": 18,
   "id": "6e9d55e8-f793-4df9-8917-abc7d805ad28",
   "metadata": {},
   "outputs": [
    {
     "name": "stdout",
     "output_type": "stream",
     "text": [
      "Step 7 - bonus distribution sample:\n",
      "     User Id  loyalty_points        bonus\n",
      "469    634.0        5164.630  1548.318678\n",
      "445    601.0        2200.001   659.544370\n",
      "324    438.0        2000.001   599.585818\n",
      "530    714.0        1380.204   413.775166\n",
      "255    344.0        1350.000   404.720225\n",
      "Total bonus allocated: 10000.0\n"
     ]
    }
   ],
   "source": [
    "print(\"Step 7 - bonus distribution sample:\")\n",
    "print(top_50_players[['User Id', 'loyalty_points', 'bonus']].head())\n",
    "\n",
    "print(\"Total bonus allocated:\", top_50_players['bonus'].sum())\n"
   ]
  },
  {
   "cell_type": "code",
   "execution_count": 19,
   "id": "89b0a1a9-b4d5-4107-82e1-e0988fe04ff4",
   "metadata": {},
   "outputs": [
    {
     "name": "stdout",
     "output_type": "stream",
     "text": [
      "     User Id  loyalty_points        bonus\n",
      "469    634.0        5164.630  1548.318678\n",
      "445    601.0        2200.001   659.544370\n",
      "324    438.0        2000.001   599.585818\n",
      "530    714.0        1380.204   413.775166\n",
      "255    344.0        1350.000   404.720225\n",
      "421    569.0        1116.602   334.749195\n",
      "400    540.0        1114.201   334.029392\n",
      "666    890.0        1001.001   300.092852\n",
      "687    920.0         960.952   288.086452\n",
      "419    566.0         951.003   285.103813\n",
      "Total bonus distributed: 10000.0\n",
      "Number of players in leaderboard: 50\n"
     ]
    }
   ],
   "source": [
    "print(top_50_players.head(10))  # Show top 10 users with loyalty points and bonus\n",
    "print(\"Total bonus distributed:\", top_50_players['bonus'].sum())\n",
    "print(\"Number of players in leaderboard:\", len(top_50_players))\n"
   ]
  },
  {
   "cell_type": "code",
   "execution_count": 20,
   "id": "ff96f991-e89c-4d7a-b4ed-5d70ac03049f",
   "metadata": {},
   "outputs": [],
   "source": [
    "total_bonus_pool = 10000  # or whatever you set\n",
    "allocated_bonus_sum = top_50_players['bonus'].sum()\n",
    "assert abs(allocated_bonus_sum - total_bonus_pool) < 1e-6, \"Bonus distribution mismatch!\"\n"
   ]
  },
  {
   "cell_type": "code",
   "execution_count": 21,
   "id": "dae61dcf-cb83-4c66-8692-88308c8e1b85",
   "metadata": {},
   "outputs": [
    {
     "name": "stdout",
     "output_type": "stream",
     "text": [
      "User Id           0\n",
      "loyalty_points    0\n",
      "bonus             0\n",
      "dtype: int64\n",
      "0\n"
     ]
    }
   ],
   "source": [
    "print(top_50_players.isnull().sum())\n",
    "print((top_50_players['loyalty_points'] <= 0).sum())\n"
   ]
  },
  {
   "cell_type": "code",
   "execution_count": 22,
   "id": "f45ff7ec-d05c-4d16-a75d-1e5cf643fac8",
   "metadata": {},
   "outputs": [],
   "source": [
    "top_50_players.to_csv('top_50_loyalty_leaderboard.csv', index=False)\n"
   ]
  },
  {
   "cell_type": "code",
   "execution_count": null,
   "id": "e2a1de8e-5f4b-46a0-bbfc-014920322fa1",
   "metadata": {},
   "outputs": [],
   "source": []
  }
 ],
 "metadata": {
  "kernelspec": {
   "display_name": "Python 3 (ipykernel)",
   "language": "python",
   "name": "python3"
  },
  "language_info": {
   "codemirror_mode": {
    "name": "ipython",
    "version": 3
   },
   "file_extension": ".py",
   "mimetype": "text/x-python",
   "name": "python",
   "nbconvert_exporter": "python",
   "pygments_lexer": "ipython3",
   "version": "3.13.4"
  }
 },
 "nbformat": 4,
 "nbformat_minor": 5
}
